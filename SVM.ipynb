{
 "cells": [
  {
   "cell_type": "code",
   "execution_count": null,
   "id": "84ebcb4c-9f09-4abb-b1de-b9189b30c722",
   "metadata": {},
   "outputs": [],
   "source": [
    "from sklearn.model_selection import StratifiedShuffleSplit\n",
    "import pandas as pd\n",
    "from sklearn.model_selection import StratifiedKFold\n",
    "from sklearn.preprocessing import StandardScaler\n",
    "from sklearn import svm\n",
    "from sklearn.metrics import accuracy_score\n",
    "import numpy as np\n",
    "\n",
    "# Load data\n",
    "data = pd.read_csv('parametros.csv', decimal=',')\n",
    "data['deltaf'] = data['f(α)_21'] - data['f(α)_1']\n",
    "\n",
    "# Define features and label\n",
    "X = data[['α(q)_1', 'deltaf', 'h(q)_2', 'α(q)_21']]\n",
    "y = data['classe']\n",
    "\n",
    "# Initialize StratifiedShuffleSplit with 5 splits and 80% train data\n",
    "sss = StratifiedShuffleSplit(n_splits=5, test_size=0.2, random_state=0)\n",
    "\n",
    "# Initialize list to store accuracies\n",
    "accuracies = []\n",
    "\n",
    "# Apply StratifiedShuffleSplit\n",
    "for train_index, test_index in sss.split(X, y):\n",
    "    X_train, X_test = X.iloc[train_index], X.iloc[test_index]\n",
    "    y_train, y_test = y.iloc[train_index], y.iloc[test_index]\n",
    "    \n",
    "    # Normalize data\n",
    "    scaler = StandardScaler()\n",
    "    X_train_std = scaler.fit_transform(X_train)\n",
    "    X_test_std = scaler.transform(X_test)\n",
    "    \n",
    "    # Train SVM model\n",
    "    clf = svm.SVC(kernel='rbf', class_weight='balanced')\n",
    "    clf.fit(X_train_std, y_train)\n",
    "    \n",
    "    # Predict labels\n",
    "    y_pred = clf.predict(X_test_std)\n",
    "    \n",
    "    # Calculate accuracy and store it\n",
    "    accuracy = accuracy_score(y_test, y_pred)\n",
    "    accuracies.append(accuracy)\n",
    "\n",
    "# Display accuracies for each split\n",
    "for i, acc in enumerate(accuracies, 1):\n",
    "    print(f'Accuracy for split {i}: {acc:.4f}')\n",
    "\n",
    "# Display mean accuracy\n",
    "print(f'Mean accuracy: {np.mean(accuracies):.4f}')\n"
   ]
  }
 ],
 "metadata": {
  "kernelspec": {
   "display_name": "Python 3 (ipykernel)",
   "language": "python",
   "name": "python3"
  },
  "language_info": {
   "codemirror_mode": {
    "name": "ipython",
    "version": 3
   },
   "file_extension": ".py",
   "mimetype": "text/x-python",
   "name": "python",
   "nbconvert_exporter": "python",
   "pygments_lexer": "ipython3",
   "version": "3.12.5"
  }
 },
 "nbformat": 4,
 "nbformat_minor": 5
}
